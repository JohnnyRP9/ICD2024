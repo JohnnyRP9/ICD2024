{
 "cells": [
  {
   "cell_type": "markdown",
   "id": "7af16e1a-d11d-4b86-9bba-513ce696034d",
   "metadata": {},
   "source": [
    "* Autor: Johnny Rubio Pecasso \n",
    "* Fecha: 02/sep/2024 \n",
    "* Introduccion a la ciencia de datos \n",
    "* Noteboook ICD - 3_1"
   ]
  },
  {
   "cell_type": "markdown",
   "id": "9c86055e-5c4c-4e70-9124-c50042f45f1c",
   "metadata": {},
   "source": [
    "Creando arreglos"
   ]
  },
  {
   "cell_type": "code",
   "execution_count": 1,
   "id": "c7e51b59-964f-4b00-928f-305bebca020e",
   "metadata": {},
   "outputs": [],
   "source": [
    "import numpy as np"
   ]
  },
  {
   "cell_type": "code",
   "execution_count": 2,
   "id": "29f93308-0148-47b2-bacc-47e0e0aad64d",
   "metadata": {},
   "outputs": [],
   "source": [
    "a = np.array([1,2,3])\n",
    "b = np.array([(1.5,2,3), (4,5,6)], dtype = float)\n",
    "c = np.array([[(1.5,2,3), (4,5,6)],[(3,2,1), (4,5,6)]], dtype = float)"
   ]
  },
  {
   "cell_type": "markdown",
   "id": "a191e08a-818f-4f60-81c7-8bd1854c2485",
   "metadata": {},
   "source": [
    "Marcadores Iniciales"
   ]
  },
  {
   "cell_type": "code",
   "execution_count": 3,
   "id": "8a19f393-69fc-44ee-8a57-432f8d052734",
   "metadata": {},
   "outputs": [
    {
     "data": {
      "text/plain": [
       "array([[1.39069238e-309, 1.39069238e-309],\n",
       "       [1.39069238e-309, 1.39069238e-309],\n",
       "       [1.39069238e-309, 1.39069238e-309]])"
      ]
     },
     "execution_count": 3,
     "metadata": {},
     "output_type": "execute_result"
    }
   ],
   "source": [
    "np.zeros((3,4))\n",
    "np.ones((2,3,4),dtype=np.int16)\n",
    "d = np.arange(10,25,5)\n",
    "np.linspace(0,2,9)\n",
    "e = np.full((2,2),7)\n",
    "f = np.eye(2)\n",
    "np.random.random((2,2))\n",
    "np.empty((3,2)) "
   ]
  },
  {
   "cell_type": "markdown",
   "id": "65119145-dd37-4724-9167-e678746ba285",
   "metadata": {},
   "source": [
    "I/O: Guardando y cargando al disco"
   ]
  },
  {
   "cell_type": "code",
   "execution_count": 4,
   "id": "cdb0fbc5-5d80-43d9-8d07-3bbae927d5ca",
   "metadata": {},
   "outputs": [
    {
     "data": {
      "text/plain": [
       "<numpy.lib.npyio.NpzFile at 0x26d3579c8b0>"
      ]
     },
     "execution_count": 4,
     "metadata": {},
     "output_type": "execute_result"
    }
   ],
   "source": [
    "np.save('my_array', a)\n",
    "np.savez('array.npz', a, b)\n",
    "np.load('array.npz')"
   ]
  },
  {
   "cell_type": "markdown",
   "id": "09a0e702-3b7f-41a2-be92-00d08b22da95",
   "metadata": {},
   "source": [
    "I/O: Guardando y cargando archivos de texo"
   ]
  },
  {
   "cell_type": "code",
   "execution_count": 5,
   "id": "f5a177fc-739a-4996-8bbc-541dfcc0d071",
   "metadata": {},
   "outputs": [],
   "source": [
    "np.loadtxt('myfile.txt')\n",
    "np.genfromtxt('array.npz', delimiter=',')\n",
    "np.savetxt(\"myarray.txt\", a, delimiter=\" \")"
   ]
  },
  {
   "cell_type": "markdown",
   "id": "c31a33b2-0952-4c41-a1cf-94ec84b74a29",
   "metadata": {},
   "source": [
    "Preguntando por ayuda"
   ]
  },
  {
   "cell_type": "code",
   "execution_count": 6,
   "id": "f48ef421-fc22-4203-a746-fec3e8cba657",
   "metadata": {},
   "outputs": [
    {
     "name": "stdout",
     "output_type": "stream",
     "text": [
      "Data-type of the array's elements.\n",
      "\n",
      "Parameters\n",
      "----------\n",
      "None\n",
      "\n",
      "Returns\n",
      "-------\n",
      "d : numpy dtype object\n",
      "\n",
      "See Also\n",
      "--------\n",
      "numpy.dtype\n",
      "\n",
      "Examples\n",
      "--------\n",
      ">>> x\n",
      "array([[0, 1],\n",
      "       [2, 3]])\n",
      ">>> x.dtype\n",
      "dtype('int32')\n",
      ">>> type(x.dtype)\n",
      "<type 'numpy.dtype'>\n"
     ]
    }
   ],
   "source": [
    "np.info(np.ndarray.dtype)"
   ]
  },
  {
   "cell_type": "markdown",
   "id": "5cfc50ef-efb7-4395-af16-acc059e2801f",
   "metadata": {},
   "source": [
    "Inspeccionando el arreglo"
   ]
  },
  {
   "cell_type": "code",
   "execution_count": 7,
   "id": "eeed5c60-78f4-4181-9446-e7d4bb21e201",
   "metadata": {},
   "outputs": [
    {
     "data": {
      "text/plain": [
       "array([[1, 2, 3],\n",
       "       [4, 5, 6]])"
      ]
     },
     "execution_count": 7,
     "metadata": {},
     "output_type": "execute_result"
    }
   ],
   "source": [
    "a.shape\n",
    "len(a)\n",
    "b.ndim\n",
    "e.size\n",
    "b.dtype\n",
    "b.dtype.name\n",
    "b.astype(int)"
   ]
  },
  {
   "cell_type": "markdown",
   "id": "7fff2e71-3a7b-4132-a1aa-2a9d0189e566",
   "metadata": {},
   "source": [
    "Tipos de datos"
   ]
  },
  {
   "cell_type": "code",
   "execution_count": 8,
   "id": "61ce5644-0e76-4ed0-85c2-5940b0666c1f",
   "metadata": {},
   "outputs": [
    {
     "name": "stderr",
     "output_type": "stream",
     "text": [
      "C:\\Users\\john_\\AppData\\Local\\Temp\\ipykernel_14312\\1443134135.py:3: DeprecationWarning: `np.complex` is a deprecated alias for the builtin `complex`. To silence this warning, use `complex` by itself. Doing this will not modify any behavior and is safe. If you specifically wanted the numpy scalar type, use `np.complex128` here.\n",
      "Deprecated in NumPy 1.20; for more details and guidance: https://numpy.org/devdocs/release/1.20.0-notes.html#deprecations\n",
      "  np.complex\n",
      "C:\\Users\\john_\\AppData\\Local\\Temp\\ipykernel_14312\\1443134135.py:4: DeprecationWarning: `np.bool` is a deprecated alias for the builtin `bool`. To silence this warning, use `bool` by itself. Doing this will not modify any behavior and is safe. If you specifically wanted the numpy scalar type, use `np.bool_` here.\n",
      "Deprecated in NumPy 1.20; for more details and guidance: https://numpy.org/devdocs/release/1.20.0-notes.html#deprecations\n",
      "  np.bool\n",
      "C:\\Users\\john_\\AppData\\Local\\Temp\\ipykernel_14312\\1443134135.py:5: DeprecationWarning: `np.object` is a deprecated alias for the builtin `object`. To silence this warning, use `object` by itself. Doing this will not modify any behavior and is safe. \n",
      "Deprecated in NumPy 1.20; for more details and guidance: https://numpy.org/devdocs/release/1.20.0-notes.html#deprecations\n",
      "  np.object\n"
     ]
    },
    {
     "data": {
      "text/plain": [
       "numpy.str_"
      ]
     },
     "execution_count": 8,
     "metadata": {},
     "output_type": "execute_result"
    }
   ],
   "source": [
    "np.int64\n",
    "np.float32\n",
    "np.complex\n",
    "np.bool\n",
    "np.object\n",
    "np.string_\n",
    "np.unicode_"
   ]
  },
  {
   "cell_type": "markdown",
   "id": "f44cd655-a621-4c71-9c53-02ed69a7b515",
   "metadata": {},
   "source": [
    "Arreglos matematicos: Operaciones aritmeticas"
   ]
  },
  {
   "cell_type": "code",
   "execution_count": 9,
   "id": "ede0e84f-09e3-4d72-9541-efb397c3e141",
   "metadata": {},
   "outputs": [
    {
     "data": {
      "text/plain": [
       "array([[7., 7.],\n",
       "       [7., 7.]])"
      ]
     },
     "execution_count": 9,
     "metadata": {},
     "output_type": "execute_result"
    }
   ],
   "source": [
    "g = a - b\n",
    "np.subtract(a,b)\n",
    "\n",
    "b + a\n",
    "np.add(b,a)\n",
    "\n",
    "a / b\n",
    "np.divide(a,b)\n",
    "\n",
    "a * b\n",
    "np.multiply(a,b)\n",
    "\n",
    "np.exp(b)\n",
    "np.sqrt(b)\n",
    "np.sin(a)\n",
    "np.cos(b)\n",
    "np.log(a)\n",
    "e.dot(f)"
   ]
  },
  {
   "cell_type": "markdown",
   "id": "41ca67cf-bf90-4e72-9e49-f8dcaeecf61e",
   "metadata": {},
   "source": [
    "Arreglos matematicos: Comparaciones"
   ]
  },
  {
   "cell_type": "code",
   "execution_count": 10,
   "id": "085840a1-88a7-4837-a11f-f20552c533db",
   "metadata": {},
   "outputs": [
    {
     "data": {
      "text/plain": [
       "False"
      ]
     },
     "execution_count": 10,
     "metadata": {},
     "output_type": "execute_result"
    }
   ],
   "source": [
    "a == b\n",
    "a < 2\n",
    "np.array_equal(a, b) "
   ]
  },
  {
   "cell_type": "markdown",
   "id": "546f45a9-a8d2-4894-857c-ee6c051175f0",
   "metadata": {},
   "source": [
    "Arreglos matematicos: Funciones"
   ]
  },
  {
   "cell_type": "markdown",
   "id": "f1bf0de1-2efe-47c7-9d00-f403f282c53c",
   "metadata": {},
   "source": [
    "a.sum()\n",
    "a.min()\n",
    "b.max(axis=0)\n",
    "b.cumsum(axis=1)\n",
    "a.mean()\n",
    "np.median(b)\n",
    "np.corrcoef(a)\n",
    "np.std(b)"
   ]
  },
  {
   "cell_type": "markdown",
   "id": "f4f2b4f1-91ca-43f7-94ef-a13861e4bd08",
   "metadata": {},
   "source": [
    "Copiando arreglos"
   ]
  },
  {
   "cell_type": "code",
   "execution_count": 11,
   "id": "9c06bcce-6767-4d2e-82d9-3ea85d6b4176",
   "metadata": {},
   "outputs": [],
   "source": [
    "h = a.view()\n",
    "np.copy(a)\n",
    "h = a.copy()"
   ]
  },
  {
   "cell_type": "markdown",
   "id": "eb932796-86ca-4a3c-84c7-d10226328c1c",
   "metadata": {},
   "source": [
    "Ordenamiento de arreglos"
   ]
  },
  {
   "cell_type": "code",
   "execution_count": 12,
   "id": "4da47d3c-7c2c-4e00-a938-5caefbec24df",
   "metadata": {},
   "outputs": [],
   "source": [
    "a.sort()\n",
    "c.sort(axis=0)"
   ]
  },
  {
   "cell_type": "markdown",
   "id": "f6e610dc-4097-4b24-8350-2c61b23db343",
   "metadata": {},
   "source": [
    "Subsetting, Slicing, Indexing"
   ]
  },
  {
   "cell_type": "code",
   "execution_count": 13,
   "id": "6353bbff-1683-4fec-98f4-9e13429a6eec",
   "metadata": {},
   "outputs": [
    {
     "data": {
      "text/plain": [
       "array([[4. , 5. , 6. , 4. ],\n",
       "       [1.5, 2. , 3. , 1.5],\n",
       "       [4. , 5. , 6. , 4. ],\n",
       "       [1.5, 2. , 3. , 1.5]])"
      ]
     },
     "execution_count": 13,
     "metadata": {},
     "output_type": "execute_result"
    }
   ],
   "source": [
    "# Subsetting\n",
    "a[2]\n",
    "b[1,2]\n",
    "\n",
    "#Slicing\n",
    "a[0:2]\n",
    "b[0:2,1]\n",
    "b[:1]\n",
    "c[1,...]\n",
    "a[ : :-1]\n",
    "\n",
    "#Boolean indexing\n",
    "a[a<2]\n",
    "\n",
    "# Fancy indexing\n",
    "b[[1,0,1, 0],[0,1, 2, 0]]\n",
    "b[[1,0,1, 0]][:,[0,1,2,0]]"
   ]
  },
  {
   "cell_type": "markdown",
   "id": "338aeda6-9f01-492b-b2ba-45e3aaaa1aba",
   "metadata": {},
   "source": [
    "Manipulacion de arreglos"
   ]
  },
  {
   "cell_type": "code",
   "execution_count": 14,
   "id": "2e26c5a8-e71e-4381-83fa-62388fb64265",
   "metadata": {},
   "outputs": [
    {
     "data": {
      "text/plain": [
       "array([[ 1, 10],\n",
       "       [ 2, 15],\n",
       "       [ 3, 20]])"
      ]
     },
     "execution_count": 14,
     "metadata": {},
     "output_type": "execute_result"
    }
   ],
   "source": [
    "# Transpuesta\n",
    "i = np.transpose(b)\n",
    "i.T\n",
    "\n",
    "# Cambiando de forma\n",
    "b.ravel()\n",
    "g.reshape(3, 2) \n",
    "\n",
    "# Agregando y eliminando elementos\n",
    "h.resize((2,6))\n",
    "np.append(h,g)\n",
    "np.insert(a,1,5)\n",
    "np.delete(a,[1]) \n",
    "\n",
    "# Combinando arreglos\n",
    "np.concatenate((a,d),axis=0)\n",
    "np.vstack((a,b))\n",
    "np.r_[e,f]\n",
    "np.hstack((e,f))\n",
    "np.column_stack((a,d))\n",
    "np.c_[a,d]\n",
    " "
   ]
  }
 ],
 "metadata": {
  "kernelspec": {
   "display_name": "Python 3 (ipykernel)",
   "language": "python",
   "name": "python3"
  },
  "language_info": {
   "codemirror_mode": {
    "name": "ipython",
    "version": 3
   },
   "file_extension": ".py",
   "mimetype": "text/x-python",
   "name": "python",
   "nbconvert_exporter": "python",
   "pygments_lexer": "ipython3",
   "version": "3.8.6"
  }
 },
 "nbformat": 4,
 "nbformat_minor": 5
}
