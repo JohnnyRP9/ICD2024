{
 "cells": [
  {
   "cell_type": "markdown",
   "id": "3ccf203b-ad48-4192-9f84-f4789531d209",
   "metadata": {},
   "source": [
    "* Autor: Johnny Rubio Pecasso \n",
    "* Fecha: 03/sep/2024 \n",
    "* Introduccion a la ciencia de datos \n",
    "* Noteboook ICD - 3_2"
   ]
  },
  {
   "cell_type": "markdown",
   "id": "e30e68ac-de6a-4282-96f0-ac6a4db75641",
   "metadata": {},
   "source": [
    "Creacion de dataframes"
   ]
  },
  {
   "cell_type": "code",
   "execution_count": 1,
   "id": "014d6864-f1e9-4108-9a70-e52356358039",
   "metadata": {},
   "outputs": [],
   "source": [
    "import pandas as pd"
   ]
  },
  {
   "cell_type": "code",
   "execution_count": 2,
   "id": "630a3c19-b021-4834-8435-0120d7a0fcdb",
   "metadata": {},
   "outputs": [
    {
     "name": "stdout",
     "output_type": "stream",
     "text": [
      "   a  b   c\n",
      "1  4  7  10\n",
      "2  5  8  11\n",
      "3  6  9  12\n"
     ]
    }
   ],
   "source": [
    "df1 = pd.DataFrame(\n",
    "{\"a\" : [4, 5, 6],\n",
    "\"b\" : [7, 8, 9],\n",
    "\"c\" : [10, 11, 12]},\n",
    "index = [1, 2, 3])\n",
    "\n",
    "print(df1)"
   ]
  },
  {
   "cell_type": "code",
   "execution_count": 3,
   "id": "252a3fa9-4fe6-4634-8373-890c3dda2d3b",
   "metadata": {},
   "outputs": [
    {
     "name": "stdout",
     "output_type": "stream",
     "text": [
      "   a  b   c\n",
      "1  4  7  10\n",
      "2  5  8  11\n",
      "3  6  9  12\n"
     ]
    }
   ],
   "source": [
    "df = pd.DataFrame(\n",
    "[[4, 7, 10],\n",
    "[5, 8, 11],\n",
    "[6, 9, 12]],\n",
    "index=[1, 2, 3],\n",
    "columns=['a', 'b', 'c'])\n",
    "\n",
    "print(df)"
   ]
  },
  {
   "cell_type": "code",
   "execution_count": 4,
   "id": "9e9d07d6-4c7f-442a-ad1d-6f99243bc60e",
   "metadata": {},
   "outputs": [
    {
     "name": "stdout",
     "output_type": "stream",
     "text": [
      "     a  b   c\n",
      "n v          \n",
      "d 1  4  7  10\n",
      "  2  5  8  11\n",
      "e 2  6  9  12\n"
     ]
    }
   ],
   "source": [
    "df2 = pd.DataFrame(\n",
    "{\"a\" : [4 ,5, 6],\n",
    "\"b\" : [7, 8, 9],\n",
    "\"c\" : [10, 11, 12]},\n",
    "index = pd.MultiIndex.from_tuples(\n",
    "[('d', 1), ('d', 2),\n",
    "('e', 2)], names=['n', 'v']))\n",
    "\n",
    "print(df2)"
   ]
  },
  {
   "cell_type": "markdown",
   "id": "9fcdc9d1-518b-4c87-be60-0c2d3cc1a69b",
   "metadata": {},
   "source": [
    "Metodo de encadenamiento"
   ]
  },
  {
   "cell_type": "code",
   "execution_count": 5,
   "id": "ac657ac1-2e1e-44dd-932a-6576ede43a81",
   "metadata": {},
   "outputs": [
    {
     "name": "stdout",
     "output_type": "stream",
     "text": [
      "Empty DataFrame\n",
      "Columns: [var, val]\n",
      "Index: []\n"
     ]
    }
   ],
   "source": [
    "df = (pd.melt(df).rename(columns={'variable':'var','value':'val'}).query('val >= 200'))\n",
    "print(df)"
   ]
  },
  {
   "cell_type": "markdown",
   "id": "a11f099b-b4ee-4c73-abd1-00d764fec403",
   "metadata": {},
   "source": [
    "Reshaping data"
   ]
  },
  {
   "cell_type": "code",
   "execution_count": null,
   "id": "d66108b3-9184-4bd0-a6f1-7a36f43f990e",
   "metadata": {},
   "outputs": [],
   "source": [
    "pd.melt(df)\n",
    "df.pivot(columns='var', values='val')\n",
    "pd.concat([df1,df2])\n",
    "pd.concat([df1,df2], axis=1)\n",
    "df.sort_values('mpg')\n",
    "df.sort_values('mpg', ascending=False)\n",
    "df.rename(columns = {'y':'year'})\n",
    "df.sort_index()\n",
    "df.reset_index()\n",
    "df.drop(columns=['Length', 'Height'])"
   ]
  },
  {
   "cell_type": "markdown",
   "id": "cd6a8062-5d84-4a8f-81f0-0f5eb7cbe9ed",
   "metadata": {},
   "source": [
    "Subset"
   ]
  },
  {
   "cell_type": "code",
   "execution_count": null,
   "id": "ff862dd9-b969-4e11-916d-3535ae8ec9e7",
   "metadata": {},
   "outputs": [],
   "source": [
    "# Observations (rows)\n",
    "df[df.Length > 7]\n",
    "df.drop_duplicates()\n",
    "df.sample(frac=0.5)\n",
    "df.sample(n=10)\n",
    "df.nlargest(n, 'value’)\n",
    "df.nsmallest(n, 'value')\n",
    "df.head(n)\n",
    "df.tail(n)\n",
    "\n",
    "# Variables (columns)\n",
    "df[['width’, 'length’, 'species']]\n",
    "df['width'] or df.width\n",
    "df.filter(regex='regex')\n",
    "\n",
    "# using query\n",
    "df.query('Length > 7')\n",
    "df.query('Length > 7 and Width < 8')\n",
    "df.query('Name.str.startswith(\"abc\")', engine=\"python\")\n",
    "\n",
    "# subsets - rows and columns\n",
    "df.iloc[10:20]\n",
    "df.iloc[:, [1, 2, 5]]\n",
    "df.loc[:, 'x2':'x4']\n",
    "df.loc[df['a'] > 10, ['a’, 'c']]\n",
    "df.iat[1, 2]\n",
    "df.at[4, 'A']"
   ]
  },
  {
   "cell_type": "markdown",
   "id": "f783e242-1363-4d79-82a2-f482264deafa",
   "metadata": {},
   "source": [
    "analisis de los datos"
   ]
  },
  {
   "cell_type": "code",
   "execution_count": 14,
   "id": "8d85c64b-d20b-4ff2-ae42-600fa17dda1e",
   "metadata": {},
   "outputs": [
    {
     "data": {
      "text/plain": [
       "var    NaN\n",
       "val    NaN\n",
       "dtype: object"
      ]
     },
     "execution_count": 14,
     "metadata": {},
     "output_type": "execute_result"
    }
   ],
   "source": [
    "# df['w'].value_counts()\n",
    "len(df) \n",
    "df.shape \n",
    "# df['w'].nunique() \n",
    "df.describe()\n",
    "\n",
    "# Funciones\n",
    "df.sum()\n",
    "df.count()\n",
    "df.median()\n",
    "df.quantile([0.25,0.75])\n",
    "# df.apply()\n",
    "df.min()\n",
    "df.max()\n",
    "df.mean()\n",
    "df.var()\n",
    "df.std()"
   ]
  },
  {
   "cell_type": "markdown",
   "id": "095ebdad-0e27-4ada-a4ff-ce6adba16651",
   "metadata": {},
   "source": [
    "Ventanas"
   ]
  },
  {
   "cell_type": "code",
   "execution_count": 17,
   "id": "5e1ea882-bdbd-4ece-98fd-31e48e8a750e",
   "metadata": {},
   "outputs": [
    {
     "data": {
      "text/plain": [
       "Expanding [min_periods=1,axis=0,method=single]"
      ]
     },
     "execution_count": 17,
     "metadata": {},
     "output_type": "execute_result"
    }
   ],
   "source": [
    "df.expanding()"
   ]
  },
  {
   "cell_type": "markdown",
   "id": "fb65731a-e857-4da2-b434-a898a4b22599",
   "metadata": {},
   "source": [
    "Manejando datos faltantes"
   ]
  },
  {
   "cell_type": "code",
   "execution_count": 19,
   "id": "2592d8fa-a41d-4ff3-9fa0-3f6e8c3fda16",
   "metadata": {},
   "outputs": [
    {
     "data": {
      "text/html": [
       "<div>\n",
       "<style scoped>\n",
       "    .dataframe tbody tr th:only-of-type {\n",
       "        vertical-align: middle;\n",
       "    }\n",
       "\n",
       "    .dataframe tbody tr th {\n",
       "        vertical-align: top;\n",
       "    }\n",
       "\n",
       "    .dataframe thead th {\n",
       "        text-align: right;\n",
       "    }\n",
       "</style>\n",
       "<table border=\"1\" class=\"dataframe\">\n",
       "  <thead>\n",
       "    <tr style=\"text-align: right;\">\n",
       "      <th></th>\n",
       "      <th>var</th>\n",
       "      <th>val</th>\n",
       "    </tr>\n",
       "    <tr>\n",
       "      <th>typing.Literal[&lt;no_default&gt;]</th>\n",
       "      <th></th>\n",
       "      <th></th>\n",
       "    </tr>\n",
       "  </thead>\n",
       "  <tbody>\n",
       "  </tbody>\n",
       "</table>\n",
       "</div>"
      ],
      "text/plain": [
       "Empty DataFrame\n",
       "Columns: [var, val]\n",
       "Index: []"
      ]
     },
     "execution_count": 19,
     "metadata": {},
     "output_type": "execute_result"
    }
   ],
   "source": [
    "df.dropna()"
   ]
  },
  {
   "cell_type": "markdown",
   "id": "28715020-1c55-4dfd-99eb-4236ebdbc6c4",
   "metadata": {},
   "source": [
    "Creando nuevas columnas"
   ]
  },
  {
   "cell_type": "code",
   "execution_count": 22,
   "id": "4b348cce-5a2b-4d7c-83f7-f68b6f1ba201",
   "metadata": {},
   "outputs": [],
   "source": [
    "df.assign(Area=lambda df: df.Length*df.Height) \n",
    "df['Volume'] = df.Length*df.Height*df.Depth \n",
    "pd.qcut(df.col, n, labels=False)"
   ]
  },
  {
   "cell_type": "markdown",
   "id": "61e72121-01a4-430a-8209-e4c042a731c2",
   "metadata": {},
   "source": [
    "Graficos"
   ]
  },
  {
   "cell_type": "code",
   "execution_count": 24,
   "id": "9ff15a42-ec20-4308-ae41-ee1e734c2a2e",
   "metadata": {},
   "outputs": [],
   "source": [
    "df.plot.hist()\n",
    "df.plot.scatter(x = 'w', y = 'h')"
   ]
  },
  {
   "cell_type": "markdown",
   "id": "d45e168e-90f2-490a-9e78-68a8d0eccaa8",
   "metadata": {},
   "source": [
    "Combinando Datasets"
   ]
  },
  {
   "cell_type": "code",
   "execution_count": 26,
   "id": "02fbb6a8-4fa8-489b-8f4b-0e0ff0840461",
   "metadata": {},
   "outputs": [],
   "source": [
    "pd.merge(adf, bdf, how='left', on='x1')\n",
    "pd.merge(adf, bdf, how='right', on='x1')\n",
    "pd.merge(adf, bdf, how='inner', on='x1')\n",
    "pd.merge(adf, bdf, how='outer', on='x1')"
   ]
  },
  {
   "cell_type": "code",
   "execution_count": null,
   "id": "f0328186-1a42-41a2-8419-b83294669adf",
   "metadata": {},
   "outputs": [],
   "source": []
  }
 ],
 "metadata": {
  "kernelspec": {
   "display_name": "Python 3 (ipykernel)",
   "language": "python",
   "name": "python3"
  },
  "language_info": {
   "codemirror_mode": {
    "name": "ipython",
    "version": 3
   },
   "file_extension": ".py",
   "mimetype": "text/x-python",
   "name": "python",
   "nbconvert_exporter": "python",
   "pygments_lexer": "ipython3",
   "version": "3.8.6"
  }
 },
 "nbformat": 4,
 "nbformat_minor": 5
}
