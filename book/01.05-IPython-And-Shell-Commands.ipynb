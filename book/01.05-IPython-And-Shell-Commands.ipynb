{
 "cells": [
  {
   "cell_type": "markdown",
   "id": "24a35a96-7c4a-4f4c-a778-c6b6bc5f24f4",
   "metadata": {},
   "source": [
    "---------------------------------------------------------\n",
    "Autor: Johnny Rubio Pecasso\n",
    "Fecha: 01/sep/2024\n",
    "Introduccion a la ciencia de datos\n",
    "Notebook 01.05\n",
    "---------------------------------------------------------"
   ]
  },
  {
   "cell_type": "code",
   "execution_count": 1,
   "id": "1cd9c168-ad28-4d92-a6ed-b6e4c082a09e",
   "metadata": {},
   "outputs": [
    {
     "name": "stderr",
     "output_type": "stream",
     "text": [
      "'ls' is not recognized as an internal or external command,\n",
      "operable program or batch file.\n"
     ]
    }
   ],
   "source": [
    "!ls"
   ]
  },
  {
   "cell_type": "code",
   "execution_count": 2,
   "id": "4c3936d7-5770-4cde-9aec-387f13350a25",
   "metadata": {},
   "outputs": [
    {
     "name": "stderr",
     "output_type": "stream",
     "text": [
      "'pwd' is not recognized as an internal or external command,\n",
      "operable program or batch file.\n"
     ]
    }
   ],
   "source": [
    "!pwd"
   ]
  },
  {
   "cell_type": "code",
   "execution_count": 3,
   "id": "6fabc56b-55fd-436d-9a05-ca4935f70cdc",
   "metadata": {},
   "outputs": [
    {
     "name": "stdout",
     "output_type": "stream",
     "text": [
      "\"printing from the shell\"\n"
     ]
    }
   ],
   "source": [
    "!echo \"printing from the shell\""
   ]
  },
  {
   "cell_type": "code",
   "execution_count": 4,
   "id": "d2e6b64f-810d-4dac-a3df-daf0557c651a",
   "metadata": {},
   "outputs": [],
   "source": [
    "contents = !ls"
   ]
  },
  {
   "cell_type": "code",
   "execution_count": 5,
   "id": "22c235ec-a24c-4d5d-96b3-f24c027735e1",
   "metadata": {},
   "outputs": [
    {
     "name": "stdout",
     "output_type": "stream",
     "text": [
      "[\"'ls' is not recognized as an internal or external command,\", 'operable program or batch file.']\n"
     ]
    }
   ],
   "source": [
    "print(contents)"
   ]
  },
  {
   "cell_type": "code",
   "execution_count": 6,
   "id": "762f4590-cf30-4d31-b618-61a7c5607c64",
   "metadata": {},
   "outputs": [],
   "source": [
    "directory = !pwd"
   ]
  },
  {
   "cell_type": "code",
   "execution_count": 7,
   "id": "c799c023-047e-4b6b-a088-1fc52fe347fa",
   "metadata": {},
   "outputs": [
    {
     "name": "stdout",
     "output_type": "stream",
     "text": [
      "[\"'pwd' is not recognized as an internal or external command,\", 'operable program or batch file.']\n"
     ]
    }
   ],
   "source": [
    "print(directory)"
   ]
  },
  {
   "cell_type": "code",
   "execution_count": 8,
   "id": "65e8fde3-f8f9-4945-83f2-369f08fdba17",
   "metadata": {},
   "outputs": [
    {
     "data": {
      "text/plain": [
       "IPython.utils.text.SList"
      ]
     },
     "execution_count": 8,
     "metadata": {},
     "output_type": "execute_result"
    }
   ],
   "source": [
    "type(directory)"
   ]
  },
  {
   "cell_type": "code",
   "execution_count": 9,
   "id": "d9576408-4e19-4e39-9d6a-2a6fd98bb54e",
   "metadata": {},
   "outputs": [],
   "source": [
    "message = \"hello from Python\""
   ]
  },
  {
   "cell_type": "code",
   "execution_count": 10,
   "id": "05ce7054-65bd-49c8-ac61-1776ec8faa8b",
   "metadata": {},
   "outputs": [
    {
     "name": "stdout",
     "output_type": "stream",
     "text": [
      "hello from Python\n"
     ]
    }
   ],
   "source": [
    "!echo {message}"
   ]
  },
  {
   "cell_type": "code",
   "execution_count": 11,
   "id": "bce2b32e-cc40-4ac8-ae13-91bf47263d06",
   "metadata": {},
   "outputs": [
    {
     "name": "stderr",
     "output_type": "stream",
     "text": [
      "'pwd' is not recognized as an internal or external command,\n",
      "operable program or batch file.\n"
     ]
    }
   ],
   "source": [
    "!pwd"
   ]
  },
  {
   "cell_type": "code",
   "execution_count": 12,
   "id": "41f1d95b-f7ba-42af-b734-d84aae7edb62",
   "metadata": {},
   "outputs": [],
   "source": [
    "!cd .."
   ]
  },
  {
   "cell_type": "code",
   "execution_count": 13,
   "id": "630eb75d-8bd2-4ff3-a12d-4028223950f5",
   "metadata": {},
   "outputs": [
    {
     "name": "stderr",
     "output_type": "stream",
     "text": [
      "'pwd' is not recognized as an internal or external command,\n",
      "operable program or batch file.\n"
     ]
    }
   ],
   "source": [
    "!pwd"
   ]
  },
  {
   "cell_type": "code",
   "execution_count": 14,
   "id": "2eba932d-3829-4317-9eae-9a37774d4649",
   "metadata": {},
   "outputs": [
    {
     "name": "stdout",
     "output_type": "stream",
     "text": [
      "C:\\Users\\john_\n"
     ]
    }
   ],
   "source": [
    "%cd .."
   ]
  },
  {
   "cell_type": "code",
   "execution_count": 15,
   "id": "e8bce1a1-581f-4b21-83ac-e821f7cfc9bd",
   "metadata": {},
   "outputs": [
    {
     "name": "stdout",
     "output_type": "stream",
     "text": [
      "[WinError 2] The system cannot find the file specified: 'myproject'\n",
      "C:\\Users\\john_\n"
     ]
    }
   ],
   "source": [
    "cd myproject"
   ]
  },
  {
   "cell_type": "code",
   "execution_count": 16,
   "id": "90fce4df-9da0-4e71-abf5-760cc5439784",
   "metadata": {},
   "outputs": [],
   "source": [
    "mkdir tmp"
   ]
  },
  {
   "cell_type": "code",
   "execution_count": 17,
   "id": "2757b9c4-c807-4bdf-bc22-21473c6ff0ca",
   "metadata": {},
   "outputs": [
    {
     "name": "stdout",
     "output_type": "stream",
     "text": [
      " Volume in drive C has no label.\n",
      " Volume Serial Number is 46F1-61E7\n",
      "\n",
      " Directory of C:\\Users\\john_\n",
      "\n",
      "01-Sep-24  11:51 AM    <DIR>          .\n",
      "01-Sep-24  11:51 AM    <DIR>          ..\n",
      "04-Mar-24  03:10 PM               275 .bash_history\n",
      "01-Sep-24  10:35 AM    <DIR>          .conda\n",
      "01-Sep-24  10:35 AM                43 .condarc\n",
      "26-Feb-24  02:50 PM    <DIR>          .dbus-keyrings\n",
      "31-Oct-20  12:00 AM                20 .erlang.cookie\n",
      "01-Sep-24  11:23 AM    <DIR>          .ipynb_checkpoints\n",
      "31-Oct-20  07:10 PM    <DIR>          .ipython\n",
      "01-Sep-24  11:00 AM    <DIR>          .jupyter\n",
      "07-Mar-23  05:23 PM    <DIR>          .keras\n",
      "08-Nov-20  10:56 AM    <DIR>          .matplotlib\n",
      "17-Aug-23  01:38 PM    <DIR>          .ms-ad\n",
      "22-Jun-21  10:01 AM    <DIR>          .pylint.d\n",
      "25-Apr-24  04:49 PM    <DIR>          .rtabmap\n",
      "15-May-22  08:48 AM    <DIR>          .spss\n",
      "15-Oct-22  01:37 PM    <DIR>          .spyder-py3\n",
      "22-Jan-22  02:40 PM    <DIR>          .thumbnails\n",
      "21-Nov-23  04:02 PM    <DIR>          .VirtualBox\n",
      "14-Jun-23  11:31 AM    <DIR>          .vscode\n",
      "30-Oct-20  04:18 PM    <DIR>          3D Objects\n",
      "25-Feb-23  12:28 PM    <DIR>          anaconda3\n",
      "16-Mar-22  01:54 PM            94,365 bitmap.png\n",
      "01-Sep-24  11:49 AM    <DIR>          book\n",
      "30-Oct-20  04:18 PM    <DIR>          Contacts\n",
      "31-Aug-24  12:29 PM    <DIR>          Desktop\n",
      "15-Jul-24  01:54 PM    <DIR>          Documents\n",
      "09-Mar-24  04:11 PM    <DIR>          Downloads\n",
      "30-Oct-20  04:18 PM    <DIR>          Favorites\n",
      "30-Oct-20  04:18 PM    <DIR>          Links\n",
      "03-Jun-23  04:56 PM    <DIR>          Music\n",
      "01-Sep-24  08:21 AM    <DIR>          OneDrive\n",
      "25-Apr-24  04:26 PM    <DIR>          Pictures\n",
      "30-Oct-20  04:18 PM    <DIR>          Saved Games\n",
      "30-Oct-20  04:20 PM    <DIR>          Searches\n",
      "01-Sep-24  11:51 AM    <DIR>          tmp\n",
      "01-Sep-24  11:22 AM    <DIR>          Untitled Folder\n",
      "04-Mar-24  12:00 PM    <DIR>          usb_driver\n",
      "26-Jul-24  11:34 AM    <DIR>          Videos\n",
      "27-Apr-22  05:35 PM    <DIR>          VirtualBox VMs\n",
      "02-Nov-20  09:59 AM    <DIR>          workspace\n",
      "               4 File(s)         94,703 bytes\n",
      "              37 Dir(s)  46,091,612,160 bytes free\n"
     ]
    }
   ],
   "source": [
    "ls"
   ]
  },
  {
   "cell_type": "code",
   "execution_count": 18,
   "id": "8e6d9519-4d93-445a-bf49-592faaa3cb8c",
   "metadata": {},
   "outputs": [
    {
     "ename": "SyntaxError",
     "evalue": "invalid syntax (3063831178.py, line 1)",
     "output_type": "error",
     "traceback": [
      "\u001b[1;36m  Cell \u001b[1;32mIn[18], line 1\u001b[1;36m\u001b[0m\n\u001b[1;33m    cp myproject.txt tmp/\u001b[0m\n\u001b[1;37m       ^\u001b[0m\n\u001b[1;31mSyntaxError\u001b[0m\u001b[1;31m:\u001b[0m invalid syntax\n"
     ]
    }
   ],
   "source": [
    "cp myproject.txt tmp/"
   ]
  },
  {
   "cell_type": "code",
   "execution_count": 19,
   "id": "9cbaf6b2-3634-4427-b791-977c8fa87ee4",
   "metadata": {},
   "outputs": [
    {
     "name": "stdout",
     "output_type": "stream",
     "text": [
      " Volume in drive C has no label.\n",
      " Volume Serial Number is 46F1-61E7\n",
      "\n",
      " Directory of C:\\Users\\john_\\tmp\n",
      "\n",
      "01-Sep-24  11:51 AM    <DIR>          .\n",
      "01-Sep-24  11:51 AM    <DIR>          ..\n",
      "               0 File(s)              0 bytes\n",
      "               2 Dir(s)  46,091,673,600 bytes free\n"
     ]
    }
   ],
   "source": [
    "ls tmp"
   ]
  },
  {
   "cell_type": "code",
   "execution_count": 20,
   "id": "079e04ce-68d8-43dc-9c8c-a5edec3be1f7",
   "metadata": {},
   "outputs": [
    {
     "name": "stdout",
     "output_type": "stream",
     "text": [
      " Volume in drive C has no label.\n",
      " Volume Serial Number is 46F1-61E7\n",
      "\n",
      " Directory of C:\\Users\\john_\\tmp\n",
      "\n",
      "01-Sep-24  11:51 AM    <DIR>          .\n",
      "01-Sep-24  11:51 AM    <DIR>          ..\n",
      "               0 File(s)              0 bytes\n",
      "               2 Dir(s)  46,091,608,064 bytes free\n"
     ]
    }
   ],
   "source": [
    "ls tmp"
   ]
  },
  {
   "cell_type": "code",
   "execution_count": null,
   "id": "1358bf89-84c4-4ea4-87d7-78bb2fe288bd",
   "metadata": {},
   "outputs": [],
   "source": []
  }
 ],
 "metadata": {
  "kernelspec": {
   "display_name": "Python 3 (ipykernel)",
   "language": "python",
   "name": "python3"
  },
  "language_info": {
   "codemirror_mode": {
    "name": "ipython",
    "version": 3
   },
   "file_extension": ".py",
   "mimetype": "text/x-python",
   "name": "python",
   "nbconvert_exporter": "python",
   "pygments_lexer": "ipython3",
   "version": "3.8.6"
  }
 },
 "nbformat": 4,
 "nbformat_minor": 5
}
