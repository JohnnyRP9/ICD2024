{
 "cells": [
  {
   "cell_type": "code",
   "execution_count": null,
   "id": "7af39646-696c-40a9-a994-2a6638148e14",
   "metadata": {},
   "outputs": [],
   "source": [
    "---------------------------------------------------------\n",
    "Autor: Johnny Rubio Pecasso\n",
    "Fecha: 01/sep/2024\n",
    "Introduccion a la ciencia de datos\n",
    "Notebook 01.02\n",
    "---------------------------------------------------------"
   ]
  },
  {
   "cell_type": "code",
   "execution_count": 4,
   "id": "aa337b3e-d939-463f-a151-5252dce512a4",
   "metadata": {},
   "outputs": [],
   "source": [
    "def square(a):\n",
    "    \"\"\"Return the square of a\"\"\"\n",
    "    return a ** 2"
   ]
  },
  {
   "cell_type": "code",
   "execution_count": 5,
   "id": "1d1078b0-f130-4c5e-a483-4ce2a46f7b62",
   "metadata": {},
   "outputs": [
    {
     "data": {
      "text/plain": [
       "4"
      ]
     },
     "execution_count": 5,
     "metadata": {},
     "output_type": "execute_result"
    }
   ],
   "source": [
    "square(2)"
   ]
  },
  {
   "cell_type": "code",
   "execution_count": null,
   "id": "577fe7bd-70ce-4db4-889e-b814e48980a4",
   "metadata": {},
   "outputs": [],
   "source": []
  }
 ],
 "metadata": {
  "kernelspec": {
   "display_name": "Python 3 (ipykernel)",
   "language": "python",
   "name": "python3"
  },
  "language_info": {
   "codemirror_mode": {
    "name": "ipython",
    "version": 3
   },
   "file_extension": ".py",
   "mimetype": "text/x-python",
   "name": "python",
   "nbconvert_exporter": "python",
   "pygments_lexer": "ipython3",
   "version": "3.8.6"
  }
 },
 "nbformat": 4,
 "nbformat_minor": 5
}
